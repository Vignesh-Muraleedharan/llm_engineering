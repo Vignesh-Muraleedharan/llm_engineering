{
 "cells": [
  {
   "cell_type": "markdown",
   "id": "fe12c203-e6a6-452c-a655-afb8a03a4ff5",
   "metadata": {},
   "source": [
    "# End of week 1 exercise\n",
    "\n",
    "To demonstrate your familiarity with OpenAI API, and also Ollama, build a tool that takes a technical question,  \n",
    "and responds with an explanation. This is a tool that you will be able to use yourself during the course!"
   ]
  },
  {
   "cell_type": "code",
   "execution_count": 1,
   "id": "c1070317-3ed9-4659-abe3-828943230e03",
   "metadata": {},
   "outputs": [],
   "source": [
    "# imports\n",
    "import os\n",
    "import requests\n",
    "import json\n",
    "from typing import List\n",
    "from dotenv import load_dotenv\n",
    "from bs4 import BeautifulSoup\n",
    "from IPython.display import Markdown, display, update_display\n",
    "from openai import OpenAI"
   ]
  },
  {
   "cell_type": "code",
   "execution_count": 6,
   "id": "4a456906-915a-4bfd-bb9d-57e505c5093f",
   "metadata": {},
   "outputs": [],
   "source": [
    "# constants\n",
    "\n",
    "MODEL_GPT = 'gpt-4o-mini'\n",
    "MODEL_LLAMA = 'llama3.2'\n",
    "openai = OpenAI()\n",
    "ollama_via_openai = OpenAI(base_url='http://localhost:11434/v1', api_key='ollama')"
   ]
  },
  {
   "cell_type": "code",
   "execution_count": 5,
   "id": "a8d7923c-5f28-4c30-8556-342d7c8497c1",
   "metadata": {},
   "outputs": [
    {
     "name": "stdout",
     "output_type": "stream",
     "text": [
      "API key looks good so far\n"
     ]
    }
   ],
   "source": [
    "# set up environment\n",
    "load_dotenv(override=True)\n",
    "api_key = os.getenv('OPENAI_API_KEY')\n",
    "\n",
    "if api_key and api_key.startswith('sk-proj-') and len(api_key)>10:\n",
    "    print(\"API key looks good so far\")\n",
    "else:\n",
    "    print(\"There might be a problem with your API key? Please visit the troubleshooting notebook!\")"
   ]
  },
  {
   "cell_type": "code",
   "execution_count": 7,
   "id": "3f0d0137-52b0-47a8-81a8-11a90a010798",
   "metadata": {},
   "outputs": [],
   "source": [
    "# here is the question; type over this to ask something new\n",
    "\n",
    "question = \"\"\"\n",
    "Please explain what this code does and why:\n",
    "yield from {book.get(\"author\") for book in books if book.get(\"author\")}\n",
    "\"\"\""
   ]
  },
  {
   "cell_type": "code",
   "execution_count": null,
   "id": "60ce7000-a4a5-4cce-a261-e75ef45063b4",
   "metadata": {},
   "outputs": [
    {
     "name": "stdout",
     "output_type": "stream",
     "text": [
      "Bot: Certainly! Let's break down the code snippet you've provided.\n",
      "\n",
      "```python\n",
      "yield from {book.get(\"author\") for book in books if book.get(\"author\")}\n",
      "```\n",
      "\n",
      "### Explanation\n",
      "\n",
      "1. **Context**:\n",
      "   - This snippet is likely part of a generator function in Python. A generator function is a special type of function that uses the `yield` keyword to return values one at a time, allowing you to iterate over a large sequence of values without creating an entire list in memory.\n",
      "\n",
      "2. **`{... for ... in ...}`**:\n",
      "   - This part indicates a set comprehension. It constructs a set (denoted by the curly braces `{}`) by iterating over the `books` collection.\n",
      "   - `book.get(\"author\")`: For each `book` in `books`, it attempts to retrieve the value associated with the key `\"author\"`. This method returns `None` if the key does not exist.\n",
      "\n",
      "3. **`if book.get(\"author\")`**:\n",
      "   - This is a filter condition within the set comprehension. It ensures that only books where the author exists (i.e., not `None` or an empty string) will be included in the resulting set.\n",
      "   - Essentially, it eliminates any `None` or falsy values (like empty strings) from the set.\n",
      "\n",
      "4. **`yield from`**:\n",
      "   - The `yield from` expression is used to yield all values from an iterable. In this case, the iterable is the set created by the set comprehension.\n",
      "   - It allows the generator to yield each author in the set one by one.\n",
      "\n",
      "### What the Code Does\n",
      "\n",
      "- This code will yield (one at a time) all unique authors from a collection of `book` dictionaries stored in `books`. \n",
      "- If two or more books have the same author, they will"
     ]
    }
   ],
   "source": [
    "# Get gpt-4o-mini to answer, with streaming\n",
    "system_prompt = \"\"\"\n",
    "You are a geeky code dev who has deep understanding of all coding languages and you specialize in explaining code snippets.\n",
    "Explain the code snippet provided and respond in Markdown.\n",
    "\"\"\"\n",
    "\n",
    "messages =[\n",
    "    {\"role\" : \"system\", \"content\" : system_prompt},\n",
    "    {\"role\" : \"user\", \"content\" : question}\n",
    "]\n",
    "\n",
    "response = openai.chat.completions.create(\n",
    "    model=MODEL_GPT,\n",
    "    messages=messages,\n",
    "    stream=True\n",
    ")\n",
    "print(\"Bot: \", end=\"\")\n",
    "for chunk in response:\n",
    "    # Check if the chunk has content and print it\n",
    "    if chunk.choices[0].delta.content is not None:\n",
    "        print(chunk.choices[0].delta.content, end=\"\")"
   ]
  },
  {
   "cell_type": "code",
   "execution_count": null,
   "id": "8f7c8ea8-4082-4ad0-8751-3301adcf6538",
   "metadata": {},
   "outputs": [],
   "source": [
    "# Get Llama 3.2 to answer\n",
    "system_prompt = \"\"\"\n",
    "You are a geeky code dev who has deep understanding of all coding languages and you specialize in explaining code snippets.\n",
    "Explain the code snippet provided and respond in Markdown.\n",
    "\"\"\"\n",
    "\n",
    "messages =[\n",
    "    {\"role\" : \"system\", \"content\" : system_prompt},\n",
    "    {\"role\" : \"user\", \"content\" : question}\n",
    "]\n",
    "\n",
    "response = ollama_via_openai.chat.completions.create(\n",
    "    model=MODEL_LLAMA,\n",
    "    messages=messages,\n",
    "    stream=True\n",
    ")\n",
    "print(\"Bot: \", end=\"\")\n",
    "for chunk in response:\n",
    "    # Check if the chunk has content and print it\n",
    "    if chunk.choices[0].delta.content is not None:\n",
    "        print(chunk.choices[0].delta.content, end=\"\")"
   ]
  },
  {
   "cell_type": "code",
   "execution_count": null,
   "id": "2a39880b-2c5a-4bcf-9473-5cec09443415",
   "metadata": {},
   "outputs": [],
   "source": []
  }
 ],
 "metadata": {
  "kernelspec": {
   "display_name": "Python 3 (ipykernel)",
   "language": "python",
   "name": "python3"
  },
  "language_info": {
   "codemirror_mode": {
    "name": "ipython",
    "version": 3
   },
   "file_extension": ".py",
   "mimetype": "text/x-python",
   "name": "python",
   "nbconvert_exporter": "python",
   "pygments_lexer": "ipython3",
   "version": "3.11.13"
  }
 },
 "nbformat": 4,
 "nbformat_minor": 5
}
